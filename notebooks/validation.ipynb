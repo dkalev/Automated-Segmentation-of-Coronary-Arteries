{
 "cells": [
  {
   "cell_type": "code",
   "execution_count": null,
   "id": "alike-python",
   "metadata": {},
   "outputs": [],
   "source": [
    "%load_ext autoreload\n",
    "%autoreload 2\n",
    "import torch\n",
    "import numpy as np\n",
    "import sys\n",
    "sys.path.append('..')\n",
    "from data_utils import AsocaDataModule\n",
    "from models.base import Baseline3DCNN\n",
    "from models.unet import UNet\n",
    "import h5py\n",
    "import nrrd\n",
    "import matplotlib.pyplot as plt\n",
    "import torch.nn.functional as F\n",
    "from sklearn.metrics import roc_auc_score\n",
    "from data_utils.helpers import get_padding, get_patch_padding, vol2patches, patches2vol, get_volume_pred\n",
    "import k3d"
   ]
  },
  {
   "cell_type": "code",
   "execution_count": null,
   "id": "banned-method",
   "metadata": {},
   "outputs": [],
   "source": [
    "device = 'cuda' if torch.cuda.is_available() else 'cpu'"
   ]
  },
  {
   "cell_type": "code",
   "execution_count": null,
   "id": "opposite-tractor",
   "metadata": {},
   "outputs": [],
   "source": [
    "model = UNet.load_from_checkpoint('../logs/unet-1618346108/version_0/checkpoints/epoch=9-step=7999.ckpt')"
   ]
  },
  {
   "cell_type": "code",
   "execution_count": null,
   "id": "superb-chinese",
   "metadata": {},
   "outputs": [],
   "source": [
    "batch_size = 20\n",
    "patch_size = 32\n",
    "output_dim = patch_size - 2 * model.crop\n",
    "stride = output_dim\n",
    "file_id = 39"
   ]
  },
  {
   "cell_type": "code",
   "execution_count": null,
   "id": "intended-energy",
   "metadata": {},
   "outputs": [],
   "source": [
    "adm = AsocaDataModule(batch_size=batch_size, \n",
    "                      patch_size=patch_size, \n",
    "                      stride=stride, \n",
    "                      normalize=False, \n",
    "                      datapath='../dataset/asoca.hdf5')"
   ]
  },
  {
   "cell_type": "code",
   "execution_count": null,
   "id": "flush-parts",
   "metadata": {},
   "outputs": [],
   "source": [
    "vol_dl, vol_meta = adm.volume_dataloader(file_id)"
   ]
  },
  {
   "cell_type": "code",
   "execution_count": null,
   "id": "deluxe-arbor",
   "metadata": {},
   "outputs": [],
   "source": [
    "data, header = nrrd.read(f'../dataset/Train/{file_id}.nrrd', index_order='C')\n",
    "targs, targs_header = nrrd.read(f'../dataset/Train_Masks/{file_id}.nrrd', index_order='C')"
   ]
  },
  {
   "cell_type": "code",
   "execution_count": null,
   "id": "liquid-joyce",
   "metadata": {},
   "outputs": [],
   "source": [
    "def patching_test(data, patch_size, stride):\n",
    "    data = torch.tensor(data).float()\n",
    "    padding = get_patch_padding(data.shape, patch_size, stride)\n",
    "    patches, patched_shape = vol2patches(data, patch_size, stride, padding)\n",
    "\n",
    "    data_rec = patches2vol(patches.view(patched_shape), patch_size, stride, padding=padding)\n",
    "    return torch.allclose(data, data_rec)"
   ]
  },
  {
   "cell_type": "code",
   "execution_count": null,
   "id": "hollow-honduras",
   "metadata": {},
   "outputs": [],
   "source": [
    "assert patching_test(data, patch_size, stride)"
   ]
  },
  {
   "cell_type": "code",
   "execution_count": null,
   "id": "changed-disposition",
   "metadata": {},
   "outputs": [],
   "source": [
    "model = model.to(device)"
   ]
  },
  {
   "cell_type": "code",
   "execution_count": null,
   "id": "advisory-petersburg",
   "metadata": {},
   "outputs": [],
   "source": [
    "preds = torch.empty((vol_meta['n_patches'],)+(output_dim,output_dim,output_dim))\n",
    "cur = 0\n",
    "for batch in vol_dl:\n",
    "    x = batch[0].to(device)\n",
    "    bs = x.shape[0]\n",
    "\n",
    "    pred = torch.sigmoid(model(x))\n",
    "    pred = pred.squeeze(1).detach().cpu()\n",
    "    preds[cur:cur+bs] = pred\n",
    "    \n",
    "    cur += bs"
   ]
  },
  {
   "cell_type": "code",
   "execution_count": null,
   "id": "persistent-detector",
   "metadata": {},
   "outputs": [],
   "source": [
    "preds = get_volume_pred(preds, vol_meta, stride)"
   ]
  },
  {
   "cell_type": "code",
   "execution_count": null,
   "id": "isolated-shield",
   "metadata": {},
   "outputs": [],
   "source": [
    "assert data.shape == preds.shape"
   ]
  },
  {
   "cell_type": "code",
   "execution_count": null,
   "id": "engaging-coordination",
   "metadata": {},
   "outputs": [],
   "source": [
    "preds[preds<0.5] = -10"
   ]
  },
  {
   "cell_type": "code",
   "execution_count": null,
   "id": "psychological-steal",
   "metadata": {},
   "outputs": [],
   "source": [
    "data[data<0] = -3000\n",
    "data[data>350] = -3000"
   ]
  },
  {
   "cell_type": "code",
   "execution_count": null,
   "id": "revised-transaction",
   "metadata": {},
   "outputs": [],
   "source": [
    "plot = k3d.plot(camera_auto_fit=True, fps=30)\n",
    "\n",
    "plot += k3d.volume(\n",
    "    data[::4,::4,::4].astype(np.float32),\n",
    "#     bounds=[0,vol.shape[0],0,vol.shape[1],0,vol.shape[2]],\n",
    "    interpolation=False,\n",
    "    name='input',\n",
    "    alpha_coef=50,\n",
    "    samples=600,\n",
    "    compression=6,\n",
    "    color_range=[0, 3000],\n",
    "    color_map=k3d.colormaps.matplotlib_color_maps.Coolwarm,\n",
    ")\n",
    "\n",
    "plot += k3d.volume(\n",
    "    preds[::4,::4,::4].numpy().astype(np.float32),\n",
    "#     bounds=[0,vol.shape[0],0,vol.shape[1],0,vol.shape[2]],\n",
    "    interpolation=False,\n",
    "    name='pred',\n",
    "    alpha_coef=50,\n",
    "    samples=600,\n",
    "    compression=6,\n",
    "    color_range=[0, 1],\n",
    "    color_map=k3d.colormaps.matplotlib_color_maps.Greens,\n",
    ")\n",
    "\n",
    "plot += k3d.volume(\n",
    "    targs[::4,::4,::4].astype(np.float32),\n",
    "#     bounds=[0,vol.shape[0],0,vol.shape[1],0,vol.shape[2]],\n",
    "    interpolation=False,\n",
    "    name='target',\n",
    "    alpha_coef=50,\n",
    "    samples=600,\n",
    "    compression=6,\n",
    "    color_range=[0, 1],\n",
    "    color_map=k3d.colormaps.matplotlib_color_maps.Oranges,\n",
    ")\n",
    "\n",
    "\n",
    "plot.display()"
   ]
  },
  {
   "cell_type": "code",
   "execution_count": null,
   "id": "cooperative-freeware",
   "metadata": {},
   "outputs": [],
   "source": [
    "from metrics import dice_score, hausdorff_95"
   ]
  },
  {
   "cell_type": "code",
   "execution_count": null,
   "id": "insured-google",
   "metadata": {},
   "outputs": [],
   "source": [
    "spacing = np.diag(targs_header['space directions'])"
   ]
  },
  {
   "cell_type": "code",
   "execution_count": null,
   "id": "spiritual-introduction",
   "metadata": {},
   "outputs": [],
   "source": [
    "spacing"
   ]
  },
  {
   "cell_type": "code",
   "execution_count": null,
   "id": "productive-treasure",
   "metadata": {},
   "outputs": [],
   "source": [
    "dice_score(res, torch.tensor(targs))"
   ]
  },
  {
   "cell_type": "code",
   "execution_count": null,
   "id": "sustained-ridge",
   "metadata": {},
   "outputs": [],
   "source": [
    "%%time\n",
    "hausdorff_95(res.contiguous(), torch.tensor(targs).contiguous(), spacing)"
   ]
  }
 ],
 "metadata": {
  "kernelspec": {
   "display_name": "Python 3",
   "language": "python",
   "name": "python3"
  },
  "language_info": {
   "codemirror_mode": {
    "name": "ipython",
    "version": 3
   },
   "file_extension": ".py",
   "mimetype": "text/x-python",
   "name": "python",
   "nbconvert_exporter": "python",
   "pygments_lexer": "ipython3",
   "version": "3.8.8"
  }
 },
 "nbformat": 4,
 "nbformat_minor": 5
}
