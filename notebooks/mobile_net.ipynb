{
 "cells": [
  {
   "cell_type": "code",
   "execution_count": null,
   "id": "automatic-olive",
   "metadata": {},
   "outputs": [],
   "source": [
    "import torch\n",
    "import torch.nn as nn\n",
    "import sys\n",
    "sys.path.append('..')\n",
    "from data_utils import AsocaDataset\n",
    "import numpy as np"
   ]
  },
  {
   "cell_type": "code",
   "execution_count": null,
   "id": "signal-cylinder",
   "metadata": {},
   "outputs": [],
   "source": [
    "class InvertedResidual(nn.Module):\n",
    "    def __init__(self, in_dim, out_dim, kernel_size=3, stride=1, expand_ratio=1):\n",
    "        super().__init__()\n",
    "        \n",
    "        self.kernel_size = kernel_size\n",
    "        self.stride = stride\n",
    "        \n",
    "        hidden_dim = in_dim * expand_ratio\n",
    "        \n",
    "        self.conv = nn.Sequential(\n",
    "            nn.Conv3d(in_dim, hidden_dim, kernel_size=1),\n",
    "            nn.BatchNorm3d(hidden_dim),\n",
    "            nn.ReLU(inplace=True),\n",
    "            \n",
    "            nn.Conv3d(hidden_dim, hidden_dim, padding=1, kernel_size=kernel_size, groups=hidden_dim, stride=stride),\n",
    "            nn.BatchNorm3d(hidden_dim),\n",
    "            nn.ReLU(inplace=True),\n",
    "            \n",
    "            nn.Conv3d(hidden_dim, out_dim, kernel_size=1, bias=False),\n",
    "            nn.BatchNorm3d(out_dim),\n",
    "        )\n",
    "    \n",
    "    def trim_input(self, x):\n",
    "        _,_,depth, height, width = x.shape\n",
    "#         d_out = np.floor(( depth - self.kernel_size) / self.stride)+1\n",
    "#         h_out = np.floor(( height - self.kernel_size) / self.stride)+1\n",
    "#         w_out = np.floor(( width - self.kernel_size) / self.stride)+1\n",
    "#         cr_d = int((depth - d_out) / 2)\n",
    "#         cr_h = int((height - h_out) / 2)\n",
    "#         cr_w = int((width - w_out) / 2)\n",
    "        cr_d = depth // 4\n",
    "        cr_h = height // 4\n",
    "        cr_w = width // 4\n",
    "        print(depth, height, width, cr_d, cr_h, cr_h)\n",
    "        return x[...,cr_d:-cr_d, cr_h:-cr_h, cr_w:-cr_w]\n",
    "        \n",
    "    def forward(self, x):\n",
    "        return self.conv(x)"
   ]
  },
  {
   "cell_type": "code",
   "execution_count": null,
   "id": "prepared-knitting",
   "metadata": {},
   "outputs": [],
   "source": [
    "class MobileNetV2(nn.Module):\n",
    "    def __init__(self, in_dim, out_dim):\n",
    "        super().__init__()\n",
    "        \n",
    "        layer_params = [\n",
    "            # t, c, n, s\n",
    "            [1, 16, 1, 2],\n",
    "            [6, 24, 1, 2],\n",
    "            [6, 32, 1, 2],\n",
    "        ]\n",
    "        \n",
    "        self.layers = []\n",
    "        in_channels = in_dim\n",
    "        for expand_ratio, out_channels, n_blocks, stride in layer_params:\n",
    "            self.layers.append(InvertedResidual(\n",
    "                in_channels, \n",
    "                out_channels, \n",
    "                expand_ratio=expand_ratio,\n",
    "                stride=stride))\n",
    "            in_channels = out_channels\n",
    "        \n",
    "        self.model = nn.Sequential(*self.layers)\n",
    "        \n",
    "    def forward(self, x):\n",
    "        for layer in self.layers:\n",
    "            x = layer(x)\n",
    "            print(x.shape)\n",
    "        return x"
   ]
  },
  {
   "cell_type": "code",
   "execution_count": null,
   "id": "obvious-medicare",
   "metadata": {},
   "outputs": [],
   "source": [
    "ds = AsocaDataset('../dataset/asoca-64.hdf5')"
   ]
  },
  {
   "cell_type": "code",
   "execution_count": null,
   "id": "hired-concern",
   "metadata": {},
   "outputs": [],
   "source": [
    "x, t = ds[:5][0].unsqueeze(1), ds[:5][1]"
   ]
  },
  {
   "cell_type": "code",
   "execution_count": null,
   "id": "saved-fifty",
   "metadata": {},
   "outputs": [],
   "source": [
    "model = MobileNetV2(1, 1)"
   ]
  },
  {
   "cell_type": "code",
   "execution_count": null,
   "id": "engaged-ceremony",
   "metadata": {},
   "outputs": [],
   "source": [
    "model(x).shape"
   ]
  }
 ],
 "metadata": {
  "kernelspec": {
   "display_name": "Python 3",
   "language": "python",
   "name": "python3"
  },
  "language_info": {
   "codemirror_mode": {
    "name": "ipython",
    "version": 3
   },
   "file_extension": ".py",
   "mimetype": "text/x-python",
   "name": "python",
   "nbconvert_exporter": "python",
   "pygments_lexer": "ipython3",
   "version": "3.8.8"
  }
 },
 "nbformat": 4,
 "nbformat_minor": 5
}
