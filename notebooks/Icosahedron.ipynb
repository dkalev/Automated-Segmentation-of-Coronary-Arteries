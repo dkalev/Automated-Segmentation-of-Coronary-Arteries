{
 "cells": [
  {
   "cell_type": "code",
   "execution_count": null,
   "id": "expected-guarantee",
   "metadata": {},
   "outputs": [],
   "source": [
    "import numpy as np\n",
    "import scipy\n",
    "import matplotlib.pyplot as plt\n",
    "import k3d\n",
    "from k3d.platonic import Cube, Icosahedron, Dodecahedron, Tetrahedron, Octahedron"
   ]
  },
  {
   "cell_type": "code",
   "execution_count": null,
   "id": "selected-cartoon",
   "metadata": {},
   "outputs": [],
   "source": [
    "gr = (1 + np.sqrt(5)) / 2; gr"
   ]
  },
  {
   "cell_type": "code",
   "execution_count": null,
   "id": "other-royalty",
   "metadata": {},
   "outputs": [],
   "source": [
    "g100 = np.array([\n",
    "    [-1, 0, 0],\n",
    "    [ 0,-1, 0],\n",
    "    [ 0, 0, 1]\n",
    "])\n",
    "\n",
    "g111 = np.array([\n",
    "    [ (1-gr)/2, gr/2     , -1/2     ],\n",
    "    [ -gr/2   , -1/2     , (1-gr)/2 ],\n",
    "    [ -1/2    , (gr-1)/2 , gr/2     ]\n",
    "])"
   ]
  },
  {
   "cell_type": "code",
   "execution_count": null,
   "id": "prostate-history",
   "metadata": {},
   "outputs": [],
   "source": [
    "group = [np.eye(3), g100, g111, g111@g111]\n",
    "while True:\n",
    "    added_el = False\n",
    "    for i in range(1,len(group)):\n",
    "        for j in range(1,len(group)):\n",
    "            if i < 2 and j < 2: continue\n",
    "            new_el = group[i] @ group[j]\n",
    "            if not any([np.allclose(new_el, el) for el in group]):\n",
    "                added_el = True\n",
    "                group.append(new_el)\n",
    "                \n",
    "    if not added_el:\n",
    "        print('group order', len(group))\n",
    "        break\n",
    "\n",
    "    "
   ]
  },
  {
   "cell_type": "code",
   "execution_count": null,
   "id": "chronic-angel",
   "metadata": {},
   "outputs": [],
   "source": [
    "group_all = np.vstack([g[None,...] for g in group])\n",
    "axis1 = np.array([gr,1,0])-gr\n",
    "axis2 = np.array([1,1,1])\n",
    "axis3 = np.array([1,0,0])*gr\n",
    "points1 = group_all @ axis1\n",
    "points2 = group_all @ axis2\n",
    "points3 = group_all @ axis3"
   ]
  },
  {
   "cell_type": "code",
   "execution_count": null,
   "id": "warming-cathedral",
   "metadata": {},
   "outputs": [],
   "source": [
    "plot = k3d.plot(camera_auto_fit=True, fps=60)\n",
    "dc = Dodecahedron().mesh\n",
    "dc.color = 0x5299D3\n",
    "ic = Icosahedron().mesh\n",
    "ic.color = 0x83B692\n",
    "plot += dc\n",
    "plot += ic\n",
    "plot += k3d.points(points1, color=0xFA9F11, point_size=.05)\n",
    "plot += k3d.points(points2, color=0x119F42, point_size=.05)\n",
    "plot += k3d.points(points3, color=0xF34F42, point_size=.05)\n",
    "plot.display()"
   ]
  }
 ],
 "metadata": {
  "kernelspec": {
   "display_name": "Python 3",
   "language": "python",
   "name": "python3"
  },
  "language_info": {
   "codemirror_mode": {
    "name": "ipython",
    "version": 3
   },
   "file_extension": ".py",
   "mimetype": "text/x-python",
   "name": "python",
   "nbconvert_exporter": "python",
   "pygments_lexer": "ipython3",
   "version": "3.8.8"
  }
 },
 "nbformat": 4,
 "nbformat_minor": 5
}
