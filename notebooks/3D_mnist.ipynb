{
 "cells": [
  {
   "cell_type": "code",
   "execution_count": null,
   "id": "44be2ed2",
   "metadata": {},
   "outputs": [],
   "source": [
    "import k3d\n",
    "import os\n",
    "from pathlib import Path\n",
    "import nrrd\n",
    "import matplotlib.pyplot as plt\n",
    "import numpy as np"
   ]
  },
  {
   "cell_type": "code",
   "execution_count": null,
   "id": "a9968f8a",
   "metadata": {},
   "outputs": [],
   "source": [
    "x_train_path = '../dataset/raw/ASOCA2020Data/Train'\n",
    "y_train_path = '../dataset/raw/ASOCA2020Data/Train_Masks'"
   ]
  },
  {
   "cell_type": "code",
   "execution_count": null,
   "id": "8bd791e9",
   "metadata": {},
   "outputs": [],
   "source": [
    "stats = []\n",
    "for path in os.listdir(x_train_path):\n",
    "    vol, header = nrrd.read(Path(x_train_path, path), index_order='C')\n",
    "    mask, _     = nrrd.read(Path(y_train_path, path), index_order='C')\n",
    "    stats.append([int(path.split('.')[0]), vol.shape, vol.sum(), vol.mean(), vol[mask==1].sum(), vol[mask==1].mean()])"
   ]
  },
  {
   "cell_type": "code",
   "execution_count": null,
   "id": "991ff609",
   "metadata": {},
   "outputs": [],
   "source": [
    "stats = sorted(stats, key=lambda x: x[0])"
   ]
  },
  {
   "cell_type": "code",
   "execution_count": null,
   "id": "41ae659b",
   "metadata": {},
   "outputs": [],
   "source": [
    "np.nonzero(mask.sum(axis=-1).sum(axis=-1))"
   ]
  },
  {
   "cell_type": "code",
   "execution_count": null,
   "id": "745b7ed5",
   "metadata": {},
   "outputs": [],
   "source": [
    "fig, axes = plt.subplots(2,3, figsize=(15,10))\n",
    "axes[0,0].imshow(vol[63])\n",
    "axes[1,0].imshow(mask[63])\n",
    "axes[0,1].imshow(vol[129])\n",
    "axes[1,1].imshow(mask[129])\n",
    "axes[0,2].imshow(vol[178])\n",
    "axes[1,2].imshow(mask[178])\n",
    "plt.tight_layout()\n",
    "fig.savefig('asoca_slices.pdf', format='pdf')\n",
    "plt.show()"
   ]
  },
  {
   "cell_type": "code",
   "execution_count": null,
   "id": "1baf3828",
   "metadata": {},
   "outputs": [],
   "source": [
    "plt.imshow(vol[192])"
   ]
  },
  {
   "cell_type": "code",
   "execution_count": null,
   "id": "8190afcd",
   "metadata": {},
   "outputs": [],
   "source": [
    "_, ax = plt.subplots(1,1, figsize=(15,7))\n",
    "# ax.plot([s[2] for s in stats], label='sum all')\n",
    "ax.plot([s[3] for s in stats], label='mean all')\n",
    "# ax.plot([s[4] for s in stats], label='sum fg')\n",
    "ax.plot([s[5] for s in stats], label='mean fg')\n",
    "plt.legend()\n",
    "plt.show()"
   ]
  },
  {
   "cell_type": "code",
   "execution_count": null,
   "id": "76240a58",
   "metadata": {},
   "outputs": [],
   "source": [
    "vol.shape"
   ]
  },
  {
   "cell_type": "code",
   "execution_count": null,
   "id": "c5dc82b1",
   "metadata": {},
   "outputs": [],
   "source": [
    "vol, _ = nrrd.read(Path(x_train_path, os.listdir(x_train_path)[0]), index_order='C')\n",
    "mask, _ = nrrd.read(Path(y_train_path, os.listdir(y_train_path)[0]), index_order='C')"
   ]
  },
  {
   "cell_type": "code",
   "execution_count": null,
   "id": "d70d54c5",
   "metadata": {},
   "outputs": [],
   "source": [
    "np.nonzero(mask.sum(axis=0).sum(axis=1))"
   ]
  },
  {
   "cell_type": "code",
   "execution_count": null,
   "id": "b09300ab",
   "metadata": {},
   "outputs": [],
   "source": [
    "k3d_volume = k3d.volume(\n",
    "    mask.astype(np.float32),\n",
    "    alpha_coef=1000,\n",
    "    shadow='dynamic',\n",
    "    samples=600,\n",
    "    color_map=k3d.colormaps.paraview_color_maps.Reds,\n",
    "    compression_level=9\n",
    ")\n",
    "\n",
    "plot = k3d.plot(camera_auto_fit=True)\n",
    "plot += k3d_volume\n",
    "\n",
    "plot.lighting = 2\n",
    "plot.display()"
   ]
  },
  {
   "cell_type": "code",
   "execution_count": null,
   "id": "c1ac9553",
   "metadata": {},
   "outputs": [],
   "source": [
    "import json\n",
    "import sys\n",
    "sys.path.append('..')\n",
    "from data_utils.helpers import get_volume_pred\n",
    "import torch\n",
    "import re\n",
    "import nrrd\n",
    "from tqdm import tqdm"
   ]
  },
  {
   "cell_type": "code",
   "execution_count": null,
   "id": "e1bd9cce",
   "metadata": {},
   "outputs": [],
   "source": [
    "with open('../dataset/3d_mnist_128/dataset.json', 'r') as f:\n",
    "    meta = json.load(f)"
   ]
  },
  {
   "cell_type": "code",
   "execution_count": null,
   "id": "215761f3",
   "metadata": {},
   "outputs": [],
   "source": [
    "root_mnist_dir = '../dataset/3d_mnist_128'"
   ]
  },
  {
   "cell_type": "code",
   "execution_count": null,
   "id": "0e956a61",
   "metadata": {},
   "outputs": [],
   "source": [
    "vol_paths = [Path(root_mnist_dir, 'train/vols', path) for path in os.listdir(Path(root_mnist_dir, 'train/vols'))] + \\\n",
    "            [Path(root_mnist_dir, 'valid/vols', path) for path in os.listdir(Path(root_mnist_dir, 'valid/vols'))]\n",
    "mask_paths = [Path(root_mnist_dir, 'train/masks', path) for path in os.listdir(Path(root_mnist_dir, 'train/masks'))] + \\\n",
    "            [Path(root_mnist_dir, 'valid/masks', path) for path in os.listdir(Path(root_mnist_dir, 'valid/masks'))]"
   ]
  },
  {
   "cell_type": "code",
   "execution_count": null,
   "id": "1a4ce76f",
   "metadata": {},
   "outputs": [],
   "source": [
    "vol_paths  = sorted(vol_paths , key=lambda x: int(re.findall('(\\d+).npy', x.name)[0]))\n",
    "mask_paths = sorted(mask_paths, key=lambda x: int(re.findall('(\\d+).npy', x.name)[0]))"
   ]
  },
  {
   "cell_type": "code",
   "execution_count": null,
   "id": "56775d6b",
   "metadata": {},
   "outputs": [],
   "source": [
    "output_dir = '../dataset/raw/3D_MNIST'"
   ]
  },
  {
   "cell_type": "code",
   "execution_count": null,
   "id": "c6cb4b89",
   "metadata": {},
   "outputs": [],
   "source": [
    "os.makedirs(Path(output_dir,'Train'), exist_ok=True)\n",
    "os.makedirs(Path(output_dir,'Train_Masks'), exist_ok=True)\n",
    "os.makedirs(Path(output_dir,'Test'), exist_ok=True)"
   ]
  },
  {
   "cell_type": "code",
   "execution_count": null,
   "id": "5bb45a97",
   "metadata": {},
   "outputs": [],
   "source": [
    "def get_vol(path, meta):\n",
    "    vol_meta = meta['vol_meta'][str(vol_id)]\n",
    "    vol = np.load(path)\n",
    "    vol_rec = get_volume_pred(\n",
    "        torch.from_numpy(vol), \n",
    "        vol_meta,\n",
    "        meta['patch_size'],\n",
    "        meta['stride'],\n",
    "        normalize=False).numpy()\n",
    "    assert list(vol_rec.shape) == vol_meta['shape_orig'], f\"{vol_rec.shape}, {vol_meta['shape_orig']}\"\n",
    "    return vol_rec"
   ]
  },
  {
   "cell_type": "code",
   "execution_count": null,
   "id": "c73c7b92",
   "metadata": {},
   "outputs": [],
   "source": [
    "def save_vol(vol_id, vol, output_dir, split):\n",
    "    output_path = str(Path(output_dir, split, f'{vol_id}.nrrd'))\n",
    "    header = {'space directions': np.eye(3)}\n",
    "    nrrd.write(output_path, vol, header=header, index_order='C')"
   ]
  },
  {
   "cell_type": "code",
   "execution_count": null,
   "id": "4b87053a",
   "metadata": {},
   "outputs": [],
   "source": [
    "for vol_id, path in enumerate(tqdm(vol_paths)):\n",
    "    vol_rec = get_vol(path, meta)\n",
    "    save_vol(vol_id, vol_rec, output_dir, 'Train')\n",
    "    \n",
    "for vol_id, path in enumerate(tqdm(mask_paths)):\n",
    "    vol_rec = get_vol(path, meta)\n",
    "    save_vol(vol_id, vol_rec, output_dir, 'Train_Masks')"
   ]
  },
  {
   "cell_type": "code",
   "execution_count": null,
   "id": "f2f0ce80",
   "metadata": {},
   "outputs": [],
   "source": [
    "import shutil\n",
    "shutil.make_archive('../dataset/3D_MNIST_DATA', 'zip', output_dir)"
   ]
  },
  {
   "cell_type": "code",
   "execution_count": null,
   "id": "4bc5040a",
   "metadata": {},
   "outputs": [],
   "source": [
    "np.load('../dataset/3d_mnist_128/train/masks//0.npy').shape"
   ]
  },
  {
   "cell_type": "code",
   "execution_count": 1,
   "id": "b4f714ef",
   "metadata": {},
   "outputs": [
    {
     "data": {
      "text/plain": [
       "'/home/ebekkers/damyan/ASOCA/dataset/processed/ASOCA2020Data.zip'"
      ]
     },
     "execution_count": 1,
     "metadata": {},
     "output_type": "execute_result"
    }
   ],
   "source": [
    "import shutil\n",
    "shutil.make_archive('../dataset/processed/ASOCA2020Data/', 'zip', '../dataset/raw/')"
   ]
  },
  {
   "cell_type": "code",
   "execution_count": null,
   "id": "c888cb2e",
   "metadata": {},
   "outputs": [],
   "source": []
  }
 ],
 "metadata": {
  "kernelspec": {
   "display_name": "Python 3",
   "language": "python",
   "name": "python3"
  },
  "language_info": {
   "codemirror_mode": {
    "name": "ipython",
    "version": 3
   },
   "file_extension": ".py",
   "mimetype": "text/x-python",
   "name": "python",
   "nbconvert_exporter": "python",
   "pygments_lexer": "ipython3",
   "version": "3.8.10"
  }
 },
 "nbformat": 4,
 "nbformat_minor": 5
}
