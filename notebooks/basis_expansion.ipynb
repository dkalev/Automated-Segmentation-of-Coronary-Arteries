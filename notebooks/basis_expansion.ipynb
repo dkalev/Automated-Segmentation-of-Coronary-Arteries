{
 "cells": [
  {
   "cell_type": "code",
   "execution_count": null,
   "source": [
    "import torch\n",
    "import e3cnn.nn as enn\n",
    "import e3cnn.gspaces as gspaces\n",
    "\n",
    "gspace = gspaces.rot3dOnR3()\n",
    "\n",
    "in_type  = enn.FieldType(gspace, [gspace.irrep(0)])\n",
    "out_type = enn.FieldType(gspace, [gspace.irrep(0), gspace.irrep(1), gspace.irrep(2)])\n",
    "\n",
    "model = enn.R3Conv(in_type, out_type, kernel_size=5)"
   ],
   "outputs": [],
   "metadata": {}
  },
  {
   "cell_type": "code",
   "execution_count": null,
   "source": [
    "cube = gspaces.octaOnR3()"
   ],
   "outputs": [],
   "metadata": {}
  },
  {
   "cell_type": "code",
   "execution_count": null,
   "source": [
    "import numpy as np\n",
    "def kernel_so3(L: int) -> np.ndarray:\n",
    "    dims = [ 2 * l + 1 for l in range(L+1)]\n",
    "    V = np.concatenate([np.eye(d).flatten() * np.sqrt(d) for d in dims])\n",
    "    return V\n",
    "\n",
    "def kernel_sphere(gspace: gspaces.GSpace3D, L: int) -> np.ndarray:\n",
    "    sphere = gspace.fibergroup.homspace((False, -1))\n",
    "    identity = gspace.fibergroup.identity\n",
    "    return np.concatenate([\n",
    "        sphere.basis(identity, (l,), (0,)).flatten() * np.sqrt(2*l+1)\n",
    "        for l in range(L+1)\n",
    "    ])"
   ],
   "outputs": [],
   "metadata": {}
  },
  {
   "cell_type": "code",
   "execution_count": null,
   "source": [
    "dims = [ 2 * l + 1 for l in range(1+1)]\n",
    "V = np.concatenate([np.eye(d).flatten() for d in dims])"
   ],
   "outputs": [],
   "metadata": {}
  },
  {
   "cell_type": "code",
   "execution_count": null,
   "source": [
    "V"
   ],
   "outputs": [],
   "metadata": {}
  },
  {
   "cell_type": "code",
   "execution_count": null,
   "source": [
    "kernel = kernel_sphere(gspace, 1)\n",
    "\n",
    "grid = gspace.fibergroup.sphere_grid('tetra')\n",
    "\n",
    "rho = gspace.fibergroup.bl_quotient_representation(1, (False,-1))"
   ],
   "outputs": [],
   "metadata": {}
  },
  {
   "cell_type": "code",
   "execution_count": null,
   "source": [
    "kernel = kernel_so3(1)\n",
    "\n",
    "grid = gspace.fibergroup.grid('tetra')\n",
    "\n",
    "rho = gspace.fibergroup.bl_regular_representation(1)"
   ],
   "outputs": [],
   "metadata": {}
  },
  {
   "cell_type": "code",
   "execution_count": null,
   "source": [
    "A = np.stack([ kernel @ rho(g).T for g in grid ])\n",
    "# A /= np.sqrt(len(A))"
   ],
   "outputs": [],
   "metadata": {}
  },
  {
   "cell_type": "code",
   "execution_count": null,
   "source": [
    "A"
   ],
   "outputs": [],
   "metadata": {}
  },
  {
   "cell_type": "code",
   "execution_count": null,
   "source": [
    "A /= np.sqrt(len(A))"
   ],
   "outputs": [],
   "metadata": {}
  },
  {
   "cell_type": "code",
   "execution_count": null,
   "source": [
    "A"
   ],
   "outputs": [],
   "metadata": {}
  },
  {
   "cell_type": "code",
   "execution_count": null,
   "source": [
    "np.set_printoptions(precision=2)\n",
    "np.set_printoptions(suppress=True)"
   ],
   "outputs": [],
   "metadata": {}
  },
  {
   "cell_type": "code",
   "execution_count": null,
   "source": [
    "(A @ A.T)"
   ],
   "outputs": [],
   "metadata": {}
  },
  {
   "cell_type": "code",
   "execution_count": null,
   "source": [
    "k @ gspace.fibergroup.bl_quotient_representation(2, (False,-1))(grid[-5]).T.round()"
   ],
   "outputs": [],
   "metadata": {}
  },
  {
   "cell_type": "code",
   "execution_count": null,
   "source": [
    "cube.fibergroup.cube_vertices_representation"
   ],
   "outputs": [],
   "metadata": {}
  },
  {
   "cell_type": "code",
   "execution_count": null,
   "source": [
    "[x.shape for name, x in list(model.basisexpansion.named_buffers())]"
   ],
   "outputs": [],
   "metadata": {}
  },
  {
   "cell_type": "code",
   "execution_count": null,
   "source": [
    "model.basisexpansion.dimension()"
   ],
   "outputs": [],
   "metadata": {}
  },
  {
   "cell_type": "code",
   "execution_count": null,
   "source": [
    "for info in model.basisexpansion.get_basis_info():\n",
    "    print(f\"{info['in_irrep'][0]} -> {info['out_irrep'][0]} at radius {info['radius']} shape: {info['shape']}\")"
   ],
   "outputs": [],
   "metadata": {}
  },
  {
   "cell_type": "code",
   "execution_count": null,
   "source": [
    "[(name, list(x.shape)) for name, x in list(model.named_parameters())]"
   ],
   "outputs": [],
   "metadata": {}
  },
  {
   "cell_type": "code",
   "execution_count": null,
   "source": [
    "import sys\n",
    "sys.path.append('..')\n",
    "from data_utils.dataset import AsocaClassificationDataset, AsocaSegmentationDataset"
   ],
   "outputs": [],
   "metadata": {}
  },
  {
   "cell_type": "code",
   "execution_count": null,
   "source": [
    "ds_seg = AsocaSegmentationDataset(ds_path='../dataset/processed/')"
   ],
   "outputs": [],
   "metadata": {}
  },
  {
   "cell_type": "code",
   "execution_count": null,
   "source": [
    "ds = AsocaClassificationDataset(ds_path='../dataset/classification//')"
   ],
   "outputs": [],
   "metadata": {}
  },
  {
   "cell_type": "code",
   "execution_count": null,
   "source": [
    "len(ds)"
   ],
   "outputs": [],
   "metadata": {}
  },
  {
   "cell_type": "code",
   "execution_count": null,
   "source": [
    "ds[-1][0].shape"
   ],
   "outputs": [],
   "metadata": {}
  },
  {
   "cell_type": "code",
   "execution_count": null,
   "source": [
    "from data_utils.datamodule import AsocaClassificationDataModule"
   ],
   "outputs": [],
   "metadata": {}
  },
  {
   "cell_type": "code",
   "execution_count": null,
   "source": [
    "adm = AsocaClassificationDataModule(data_dir='../dataset/classification/')"
   ],
   "outputs": [],
   "metadata": {}
  },
  {
   "cell_type": "code",
   "execution_count": null,
   "source": [
    "dl = adm.train_dataloader()"
   ],
   "outputs": [],
   "metadata": {}
  },
  {
   "cell_type": "code",
   "execution_count": null,
   "source": [
    "next(iter(dl))"
   ],
   "outputs": [],
   "metadata": {}
  },
  {
   "cell_type": "code",
   "execution_count": null,
   "source": [
    "adm.val_dataloader().dataset.file_ids"
   ],
   "outputs": [],
   "metadata": {}
  },
  {
   "cell_type": "code",
   "execution_count": null,
   "source": [],
   "outputs": [],
   "metadata": {}
  },
  {
   "cell_type": "code",
   "execution_count": null,
   "source": [],
   "outputs": [],
   "metadata": {}
  },
  {
   "cell_type": "code",
   "execution_count": null,
   "source": [],
   "outputs": [],
   "metadata": {}
  },
  {
   "cell_type": "code",
   "execution_count": null,
   "source": [],
   "outputs": [],
   "metadata": {}
  },
  {
   "cell_type": "code",
   "execution_count": null,
   "source": [],
   "outputs": [],
   "metadata": {}
  },
  {
   "cell_type": "code",
   "execution_count": null,
   "source": [
    "def get_req(batch_size, channels):\n",
    "    n_params = sum([\n",
    "        batch_size * channels * 32**3,\n",
    "        batch_size * channels * 32**3,\n",
    "        batch_size * channels * 14**3,\n",
    "        batch_size * channels * 14**3,\n",
    "        batch_size * channels * 5**3,\n",
    "        batch_size * channels * 5**3,\n",
    "        512*2\n",
    "    ])\n",
    "    x = n_params * 2 # forward + backward\n",
    "    x = x * 32 # 32 bit floats\n",
    "    x = x / 8  # in bytes\n",
    "    x = x / 1024**3 # in GB\n",
    "    return x, n_params"
   ],
   "outputs": [],
   "metadata": {}
  },
  {
   "cell_type": "code",
   "execution_count": null,
   "source": [
    "get_req(32, 480)"
   ],
   "outputs": [],
   "metadata": {}
  },
  {
   "cell_type": "code",
   "execution_count": null,
   "source": [
    "%load_ext autoreload\n",
    "%autoreload 2\n",
    "import sys\n",
    "sys.path.append('..')\n",
    "from train import AsocaClassificationConfig, AsocaSegmentationConfig"
   ],
   "outputs": [],
   "metadata": {}
  },
  {
   "cell_type": "code",
   "execution_count": null,
   "source": [
    "config = AsocaClassificationConfig((68,68,68))"
   ],
   "outputs": [],
   "metadata": {}
  },
  {
   "cell_type": "code",
   "execution_count": null,
   "source": [
    "config_seg = AsocaSegmentationConfig((68,68,68), patch_stride=(60,60,60))"
   ],
   "outputs": [],
   "metadata": {}
  },
  {
   "cell_type": "code",
   "execution_count": null,
   "source": [
    "config_seg"
   ],
   "outputs": [],
   "metadata": {}
  },
  {
   "cell_type": "code",
   "execution_count": null,
   "source": [
    "config"
   ],
   "outputs": [],
   "metadata": {}
  },
  {
   "cell_type": "code",
   "execution_count": null,
   "source": [],
   "outputs": [],
   "metadata": {}
  },
  {
   "cell_type": "code",
   "execution_count": null,
   "source": [],
   "outputs": [],
   "metadata": {}
  },
  {
   "cell_type": "code",
   "execution_count": null,
   "source": [],
   "outputs": [],
   "metadata": {}
  },
  {
   "cell_type": "code",
   "execution_count": null,
   "source": [],
   "outputs": [],
   "metadata": {}
  },
  {
   "cell_type": "code",
   "execution_count": null,
   "source": [],
   "outputs": [],
   "metadata": {}
  },
  {
   "cell_type": "code",
   "execution_count": null,
   "source": [
    "import matplotlib.pyplot as plt\n",
    "import numpy as np"
   ],
   "outputs": [],
   "metadata": {}
  },
  {
   "cell_type": "code",
   "execution_count": null,
   "source": [
    "def kernel_so3(L: int) -> np.ndarray:\n",
    "    dims = [ 2 * l + 1 for l in range(L+1)]\n",
    "    V = np.concatenate([np.eye(d).flatten() * np.sqrt(d) for d in dims])\n",
    "    return V\n",
    "\n",
    "def kernel_sphere(gspace: gspaces.GSpace3D, L: int) -> np.ndarray:\n",
    "    sphere = gspace.fibergroup.homspace((False, -1))\n",
    "    identity = gspace.fibergroup.identity\n",
    "\n",
    "    return np.concatenate([\n",
    "        sphere.basis(identity, (l,), (0,)).flatten() * np.sqrt(2*l+1)\n",
    "        for l in range(L+1)\n",
    "    ])"
   ],
   "outputs": [],
   "metadata": {}
  },
  {
   "cell_type": "code",
   "execution_count": null,
   "source": [
    "gspace"
   ],
   "outputs": [],
   "metadata": {}
  },
  {
   "cell_type": "code",
   "execution_count": null,
   "source": [
    "max_freq = 1"
   ],
   "outputs": [],
   "metadata": {}
  },
  {
   "cell_type": "code",
   "execution_count": null,
   "source": [
    "sph_kernel = kernel_sphere(gspace, max_freq)\n",
    "reg_kernel = kernel_so3(max_freq)"
   ],
   "outputs": [],
   "metadata": {}
  },
  {
   "cell_type": "code",
   "execution_count": null,
   "source": [
    "sph_grid = gspace.fibergroup.sphere_grid(type='thomson_cube', N=2)\n",
    "reg_grid = gspace.fibergroup.grid(type='thomson_cube', N=2)"
   ],
   "outputs": [],
   "metadata": {}
  },
  {
   "cell_type": "code",
   "execution_count": null,
   "source": [
    "sph_rho = gspace.fibergroup.bl_quotient_representation(max_freq, (False,-1))\n",
    "reg_rho = gspace.fibergroup.bl_regular_representation(max_freq)"
   ],
   "outputs": [],
   "metadata": {}
  },
  {
   "cell_type": "code",
   "execution_count": null,
   "source": [
    "reg_grid.__len__()"
   ],
   "outputs": [],
   "metadata": {}
  },
  {
   "cell_type": "code",
   "execution_count": null,
   "source": [
    "reg_grid"
   ],
   "outputs": [],
   "metadata": {}
  },
  {
   "cell_type": "code",
   "execution_count": null,
   "source": [
    "plt.imshow(reg_rho(reg_grid[1]))"
   ],
   "outputs": [],
   "metadata": {}
  },
  {
   "cell_type": "code",
   "execution_count": null,
   "source": [
    "sph_rho(sph_grid[0])"
   ],
   "outputs": [],
   "metadata": {}
  },
  {
   "cell_type": "code",
   "execution_count": null,
   "source": [],
   "outputs": [],
   "metadata": {}
  }
 ],
 "metadata": {
  "kernelspec": {
   "display_name": "Python 3",
   "language": "python",
   "name": "python3"
  },
  "language_info": {
   "codemirror_mode": {
    "name": "ipython",
    "version": 3
   },
   "file_extension": ".py",
   "mimetype": "text/x-python",
   "name": "python",
   "nbconvert_exporter": "python",
   "pygments_lexer": "ipython3",
   "version": "3.8.10"
  }
 },
 "nbformat": 4,
 "nbformat_minor": 5
}