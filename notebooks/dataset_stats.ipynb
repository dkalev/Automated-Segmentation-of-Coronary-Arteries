{
 "cells": [
  {
   "cell_type": "code",
   "execution_count": null,
   "id": "25f91694",
   "metadata": {},
   "outputs": [],
   "source": [
    "import zipfile\n",
    "import os\n",
    "from pathlib import Path\n",
    "import nrrd\n",
    "import pandas as pd"
   ]
  },
  {
   "cell_type": "code",
   "execution_count": null,
   "id": "effb4e9b",
   "metadata": {},
   "outputs": [],
   "source": [
    "os.makedirs('../dataset/raw', exist_ok=True)"
   ]
  },
  {
   "cell_type": "code",
   "execution_count": null,
   "id": "df391a72",
   "metadata": {},
   "outputs": [],
   "source": [
    "with zipfile.ZipFile('../dataset/ASOCA2020Data.zip', 'r') as zip_ref:\n",
    "    zip_ref.extractall('../dataset/raw')"
   ]
  },
  {
   "cell_type": "code",
   "execution_count": null,
   "id": "922848bb",
   "metadata": {},
   "outputs": [],
   "source": [
    "os.listdir('../dataset/raw/ASOCA2020Data/')"
   ]
  },
  {
   "cell_type": "code",
   "execution_count": null,
   "id": "e26ae892",
   "metadata": {},
   "outputs": [],
   "source": [
    "y_train_path = '../dataset/raw/ASOCA2020Data/Train_Masks'"
   ]
  },
  {
   "cell_type": "code",
   "execution_count": null,
   "id": "c200bc3b",
   "metadata": {},
   "outputs": [],
   "source": [
    "stats = []\n",
    "for path in os.listdir(y_train_path):\n",
    "    vol, header = nrrd.read(Path(y_train_path, path), index_order='C')\n",
    "    stats.append([int(path.split('.')[0]), vol.size, vol.sum(), vol.mean()])"
   ]
  },
  {
   "cell_type": "code",
   "execution_count": null,
   "id": "96201b56",
   "metadata": {},
   "outputs": [],
   "source": [
    "stats = sorted(stats, key=lambda x: x[0])"
   ]
  },
  {
   "cell_type": "code",
   "execution_count": null,
   "id": "dfa3ae37",
   "metadata": {},
   "outputs": [],
   "source": [
    "df = pd.DataFrame(stats, columns=['vol_id', 'n_voxels', 'n_fg', 'fg_bg_ratio'])"
   ]
  },
  {
   "cell_type": "code",
   "execution_count": null,
   "id": "bc5f55e3",
   "metadata": {},
   "outputs": [],
   "source": [
    "df.set_index('vol_id', inplace=True)"
   ]
  },
  {
   "cell_type": "code",
   "execution_count": null,
   "id": "1b2057bf",
   "metadata": {},
   "outputs": [],
   "source": [
    "df.to_csv('train_label_stats.csv')"
   ]
  },
  {
   "cell_type": "code",
   "execution_count": null,
   "id": "bc598fe3",
   "metadata": {},
   "outputs": [],
   "source": [
    "x_train_path = '../dataset/raw/ASOCA2020Data/Train'"
   ]
  },
  {
   "cell_type": "code",
   "execution_count": null,
   "id": "e63ae9b4",
   "metadata": {},
   "outputs": [],
   "source": [
    "stats = []\n",
    "for path in os.listdir(x_train_path):\n",
    "    vol, header = nrrd.read(Path(x_train_path, path), index_order='C')\n",
    "    stats.append([int(path.split('.')[0]), vol.size, vol.sum(), vol.mean()])"
   ]
  },
  {
   "cell_type": "code",
   "execution_count": null,
   "id": "c6200b2f",
   "metadata": {},
   "outputs": [],
   "source": [
    "import multiprocessing as mp\n",
    "from concurrent.futures import ProcessPoolExecutor\n",
    "from tqdm import tqdm\n",
    "import numpy as np"
   ]
  },
  {
   "cell_type": "code",
   "execution_count": null,
   "id": "9ca2912d",
   "metadata": {},
   "outputs": [],
   "source": [
    "def get_foreground(paths):\n",
    "    vol_path, mask_path = paths\n",
    "    mask, _ = nrrd.read(mask_path, index_order='C')\n",
    "    vol, _ = nrrd.read(vol_path, index_order='C')\n",
    "    return vol.flatten()[::10]"
   ]
  },
  {
   "cell_type": "code",
   "execution_count": null,
   "id": "820f991c",
   "metadata": {},
   "outputs": [],
   "source": [
    "train_paths = list(zip(\n",
    "    [Path(x_train_path, path) for path in os.listdir(x_train_path)],\n",
    "    [Path(y_train_path, path) for path in os.listdir(y_train_path)],\n",
    "))"
   ]
  },
  {
   "cell_type": "code",
   "execution_count": null,
   "id": "96f9df7f",
   "metadata": {},
   "outputs": [],
   "source": [
    "with ProcessPoolExecutor(max_workers=10) as exec:\n",
    "    fg_voxels = list(tqdm(exec.map(get_foreground, train_paths), total=len(train_paths)))\n",
    "    fg_voxels = np.concatenate(fg_voxels)\n",
    "    vol_stats = {\n",
    "            'mean': np.mean(fg_voxels),\n",
    "            'std': np.std(fg_voxels),\n",
    "            'percentile_00_5': np.percentile(fg_voxels, 0.5),\n",
    "            'percentile_99_5': np.percentile(fg_voxels, 99.5),\n",
    "           }"
   ]
  },
  {
   "cell_type": "code",
   "execution_count": null,
   "id": "0f5e7c83",
   "metadata": {},
   "outputs": [],
   "source": [
    "vol_stats"
   ]
  },
  {
   "cell_type": "code",
   "execution_count": null,
   "id": "67075dd9",
   "metadata": {},
   "outputs": [],
   "source": []
  }
 ],
 "metadata": {
  "kernelspec": {
   "display_name": "Python 3",
   "language": "python",
   "name": "python3"
  },
  "language_info": {
   "codemirror_mode": {
    "name": "ipython",
    "version": 3
   },
   "file_extension": ".py",
   "mimetype": "text/x-python",
   "name": "python",
   "nbconvert_exporter": "python",
   "pygments_lexer": "ipython3",
   "version": "3.8.10"
  }
 },
 "nbformat": 4,
 "nbformat_minor": 5
}
