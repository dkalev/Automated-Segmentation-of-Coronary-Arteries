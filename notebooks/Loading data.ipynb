{
 "cells": [
  {
   "cell_type": "code",
   "execution_count": null,
   "id": "exposed-cover",
   "metadata": {},
   "outputs": [],
   "source": [
    "import h5py\n",
    "import numpy as np\n",
    "import matplotlib.pyplot as plt\n",
    "import nrrd\n",
    "import k3d\n",
    "import sys\n",
    "import torch\n",
    "sys.path.append('..')\n",
    "from data_utils import AsocaDataModule\n",
    "from data_utils.helpers import get_volume_pred, patches2vol"
   ]
  },
  {
   "cell_type": "code",
   "execution_count": null,
   "id": "macro-terrain",
   "metadata": {},
   "outputs": [],
   "source": [
    "adm = AsocaDataModule(patch_size=32, stride=22, output_dir='../dataset')"
   ]
  },
  {
   "cell_type": "code",
   "execution_count": null,
   "id": "minor-theorem",
   "metadata": {},
   "outputs": [],
   "source": [
    "bs = 500"
   ]
  },
  {
   "cell_type": "code",
   "execution_count": null,
   "id": "accredited-panel",
   "metadata": {},
   "outputs": [],
   "source": [
    "vdl, meta = adm.volume_dataloader(2, batch_size=bs)"
   ]
  },
  {
   "cell_type": "code",
   "execution_count": null,
   "id": "resistant-swift",
   "metadata": {},
   "outputs": [],
   "source": [
    "meta"
   ]
  },
  {
   "cell_type": "code",
   "execution_count": null,
   "id": "quick-nirvana",
   "metadata": {},
   "outputs": [],
   "source": [
    "patches = torch.empty((meta['n_patches'],*meta['shape_patched'][3:]))"
   ]
  },
  {
   "cell_type": "code",
   "execution_count": null,
   "id": "medieval-award",
   "metadata": {},
   "outputs": [],
   "source": [
    "cur = 0\n",
    "for x, _ in vdl:\n",
    "    patches[cur:cur+bs] = x.squeeze(1)\n",
    "    cur += bs"
   ]
  },
  {
   "cell_type": "code",
   "execution_count": null,
   "id": "ceramic-thesis",
   "metadata": {},
   "outputs": [],
   "source": [
    "volume = get_volume_pred(patches, meta, 22).numpy()"
   ]
  },
  {
   "cell_type": "code",
   "execution_count": null,
   "id": "practical-jurisdiction",
   "metadata": {},
   "outputs": [],
   "source": [
    "ds = h5py.File('../dataset/asoca.hdf5', 'r')"
   ]
  },
  {
   "cell_type": "code",
   "execution_count": null,
   "id": "pregnant-convergence",
   "metadata": {},
   "outputs": [],
   "source": [
    "plt.imshow(ds['train']['volumes'][0][0])"
   ]
  },
  {
   "cell_type": "code",
   "execution_count": null,
   "id": "pursuant-squad",
   "metadata": {},
   "outputs": [],
   "source": [
    "_, axes = plt.subplots(8,8, figsize=(20,20))\n",
    "for i in range(8):\n",
    "    for j in range(8):\n",
    "        axes[i][j].imshow(ds['train']['volumes'][12][i*j+j])"
   ]
  },
  {
   "cell_type": "code",
   "execution_count": null,
   "id": "premier-chosen",
   "metadata": {},
   "outputs": [],
   "source": [
    "import k3d\n",
    "%matplotlib notebook"
   ]
  },
  {
   "cell_type": "code",
   "execution_count": null,
   "id": "revolutionary-postcard",
   "metadata": {},
   "outputs": [],
   "source": [
    "k = 12\n",
    "volume = ds['train']['volumes'][k]\n",
    "volume_mask = ds['train']['masks'][k]"
   ]
  },
  {
   "cell_type": "code",
   "execution_count": null,
   "id": "veterinary-second",
   "metadata": {},
   "outputs": [],
   "source": [
    "k3d_volume = k3d.volume(\n",
    "    volume[::4,::4,::4].astype(np.float32),\n",
    "    alpha_coef=10,\n",
    "    shadow='dynamic',\n",
    "    samples=600,\n",
    "    shadow_res=128,\n",
    "    shadow_delay=50,\n",
    "#     color_range=[150,750],\n",
    "    color_map=(np.array(k3d.colormaps.matplotlib_color_maps.Gist_heat).reshape(-1,4)\n",
    "               * np.array([1,1.75,1.75,1.75])).astype(np.float32),\n",
    "    compression_level=9\n",
    ")\n",
    "# size = volume.shape\n",
    "# k3d_volume.transform.bounds = [-size[0]/2,size[0]/2,\n",
    "#                            -size[1]/2,size[1]/2,\n",
    "#                            -size[2]/2,size[2]/2]\n",
    "\n",
    "plot = k3d.plot(camera_auto_fit=True)\n",
    "plot += k3d_volume\n",
    "\n",
    "# k3d_volume_mask = k3d.volume(\n",
    "#     volume_mask.astype(np.float32),\n",
    "#     alpha_coef=1000,\n",
    "#     samples=600,\n",
    "#     color_range=[0],\n",
    "#     compression_level=9\n",
    "# )\n",
    "# size = volume_mask.shape\n",
    "# k3d_volume_mask.transform.bounds = [-size[0]/2,size[0]/2,\n",
    "#                            -size[1]/2,size[1]/2,\n",
    "#                            -size[2]/2,size[2]/2]\n",
    "\n",
    "# plot += k3d_volume_mask\n",
    "\n",
    "plot.lighting = 2\n",
    "plot.display()"
   ]
  },
  {
   "cell_type": "code",
   "execution_count": null,
   "id": "comfortable-petersburg",
   "metadata": {},
   "outputs": [],
   "source": [
    "data, header = nrrd.read('../dataset/Train/1.nrrd', index_order='C')\n",
    "data_mask, _ = nrrd.read('../dataset/Train_Masks/1.nrrd', index_order='C')"
   ]
  },
  {
   "cell_type": "code",
   "execution_count": null,
   "id": "assigned-cleaning",
   "metadata": {},
   "outputs": [],
   "source": [
    "mean = data.mean()\n",
    "std = data.std()"
   ]
  },
  {
   "cell_type": "code",
   "execution_count": null,
   "id": "stuck-discussion",
   "metadata": {},
   "outputs": [],
   "source": [
    "data_n = (data - mean) / std"
   ]
  },
  {
   "cell_type": "code",
   "execution_count": null,
   "id": "invalid-jefferson",
   "metadata": {},
   "outputs": [],
   "source": [
    "_, axes = plt.subplots(2,2, figsize=(20,10))\n",
    "axes[0,0].hist(data.flatten(), bins=100, log=True)\n",
    "axes[0,1].hist(data_n.flatten(), bins=100, log=True)\n",
    "axes[1,0].imshow(data[100])\n",
    "axes[1,1].imshow(data_n[100])\n",
    "plt.show()"
   ]
  },
  {
   "cell_type": "code",
   "execution_count": null,
   "id": "advised-scenario",
   "metadata": {},
   "outputs": [],
   "source": [
    "data[data<0] = -3000\n",
    "data[data>350] = -3000"
   ]
  },
  {
   "cell_type": "code",
   "execution_count": null,
   "id": "scientific-round",
   "metadata": {},
   "outputs": [],
   "source": [
    "plt.hist(data[data!=-3000].flatten(), bins=100)\n",
    "plt.show()"
   ]
  },
  {
   "cell_type": "code",
   "execution_count": null,
   "id": "adult-christianity",
   "metadata": {},
   "outputs": [],
   "source": [
    "plot = k3d.plot(camera_auto_fit=True, fps=60)\n",
    "\n",
    "# plot += k3d.points(lattice, point_size=.05)\n",
    "i = 0\n",
    "plot += k3d.sparse_voxels(\n",
    "    sparse_d.astype(np.uint16),\n",
    "    (183,512,512),\n",
    "    name='input',\n",
    "    alpha_coef=100,\n",
    "    samples=600,\n",
    "    color_range=[0, 350],\n",
    "    color_map=k3d.colormaps.matplotlib_color_maps.Coolwarm,\n",
    ")\n",
    "\n",
    "plot += k3d.volume(\n",
    "    data_mask.astype(np.float32),\n",
    "    name='target',\n",
    "    alpha_coef=100,\n",
    "    samples=600,\n",
    "    color_range=[0, 1],\n",
    "    color_map=k3d.colormaps.matplotlib_color_maps.Oranges,\n",
    ")\n",
    "plot.display()"
   ]
  },
  {
   "cell_type": "code",
   "execution_count": null,
   "id": "intellectual-syntax",
   "metadata": {},
   "outputs": [],
   "source": [
    "def get_sparse_volume(volume):\n",
    "    assert len(volume.shape) == 3, f'Volume not 3D, shape: {volume.shape}'\n",
    "    W, H, D = volume.shape\n",
    "    X = np.linspace(-0.5, 0.5, W)\n",
    "    Y = np.linspace(-0.5, 0.5, H)\n",
    "    Z = np.linspace(-0.5, 0.5, D)\n",
    "\n",
    "\n",
    "    X, Y, Z = np.meshgrid(X,Y,Z, indexing='ij')\n",
    "    grid = np.array([X,Y,Z])\n",
    "    grid = grid.transpose((1,2,3,0))\n",
    "    volume_sparse = np.concatenate([grid, volume[...,None]], axis=-1)\n",
    "    volume_sparse = volume_sparse.reshape(-1,4)\n",
    "  \n",
    "    return volume_sparse"
   ]
  },
  {
   "cell_type": "code",
   "execution_count": null,
   "id": "assigned-rebound",
   "metadata": {},
   "outputs": [],
   "source": [
    "d = data.copy()"
   ]
  },
  {
   "cell_type": "code",
   "execution_count": null,
   "id": "empirical-howard",
   "metadata": {},
   "outputs": [],
   "source": [
    "d[d==-3000] = 0"
   ]
  },
  {
   "cell_type": "code",
   "execution_count": null,
   "id": "ideal-canberra",
   "metadata": {},
   "outputs": [],
   "source": [
    "sparse_d = get_sparse_volume(d)"
   ]
  },
  {
   "cell_type": "code",
   "execution_count": null,
   "id": "selected-saturn",
   "metadata": {},
   "outputs": [],
   "source": [
    "sparse_d.shape"
   ]
  },
  {
   "cell_type": "code",
   "execution_count": null,
   "id": "entitled-machinery",
   "metadata": {},
   "outputs": [],
   "source": [
    "sparse_d.min()"
   ]
  },
  {
   "cell_type": "code",
   "execution_count": null,
   "id": "instrumental-content",
   "metadata": {},
   "outputs": [],
   "source": [
    "sparse_d = sparse_d + 3024"
   ]
  },
  {
   "cell_type": "code",
   "execution_count": null,
   "id": "impossible-despite",
   "metadata": {},
   "outputs": [],
   "source": []
  }
 ],
 "metadata": {
  "kernelspec": {
   "display_name": "Python 3",
   "language": "python",
   "name": "python3"
  },
  "language_info": {
   "codemirror_mode": {
    "name": "ipython",
    "version": 3
   },
   "file_extension": ".py",
   "mimetype": "text/x-python",
   "name": "python",
   "nbconvert_exporter": "python",
   "pygments_lexer": "ipython3",
   "version": "3.8.8"
  }
 },
 "nbformat": 4,
 "nbformat_minor": 5
}
