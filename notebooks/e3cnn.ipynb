{
 "cells": [
  {
   "cell_type": "code",
   "execution_count": null,
   "id": "thirty-performance",
   "metadata": {},
   "outputs": [],
   "source": [
    "from e3nn import o3\n",
    "from e3nn.o3 import Irreps\n",
    "from e3nn.nn.batchnorm import BatchNorm\n",
    "from e3nn.nn.gate import Gate\n",
    "import torch.tensor as t\n",
    "import matplotlib.pyplot as plt\n",
    "import torch\n",
    "\n",
    "import sys\n",
    "sys.path.append('..')"
   ]
  },
  {
   "cell_type": "code",
   "execution_count": null,
   "id": "departmental-issue",
   "metadata": {},
   "outputs": [],
   "source": [
    "o3.FullTensorProduct(Irreps('1x0e+1x1e+1x2e'), Irreps('3x0e+3x1e+3x2e')).visualize()"
   ]
  },
  {
   "cell_type": "code",
   "execution_count": null,
   "id": "paperback-secretariat",
   "metadata": {},
   "outputs": [],
   "source": [
    "irreps = Irreps.spherical_harmonics(11)"
   ]
  },
  {
   "cell_type": "code",
   "execution_count": null,
   "id": "willing-keeping",
   "metadata": {},
   "outputs": [],
   "source": [
    "BatchNorm(irreps)"
   ]
  },
  {
   "cell_type": "code",
   "execution_count": null,
   "id": "white-richmond",
   "metadata": {},
   "outputs": [],
   "source": [
    "Gate(\"16x0o\", [torch.tanh], \"32x0o\", [torch.tanh], \"16x1e+16x1o\")"
   ]
  },
  {
   "cell_type": "code",
   "execution_count": null,
   "id": "announced-swift",
   "metadata": {},
   "outputs": [],
   "source": [
    "Gate(\"16x0e\", [torch.tanh], \"32x0e\", [torch.tanh], \"16x1e+16x1e\")"
   ]
  },
  {
   "cell_type": "code",
   "execution_count": null,
   "id": "disabled-remains",
   "metadata": {},
   "outputs": [],
   "source": [
    "rot = - o3.rand_matrix()"
   ]
  },
  {
   "cell_type": "code",
   "execution_count": null,
   "id": "copyrighted-threshold",
   "metadata": {},
   "outputs": [],
   "source": [
    "D = irreps.D_from_matrix(rot)"
   ]
  },
  {
   "cell_type": "code",
   "execution_count": null,
   "id": "executed-integer",
   "metadata": {},
   "outputs": [],
   "source": [
    "plt.imshow(D[121:,121:], cmap='bwr')\n",
    "plt.show()"
   ]
  },
  {
   "cell_type": "code",
   "execution_count": null,
   "id": "communist-albany",
   "metadata": {},
   "outputs": [],
   "source": [
    "import torch\n",
    "import torch.nn as nn\n",
    "\n",
    "from e3nn import o3\n",
    "from e3nn.o3 import FullyConnectedTensorProduct, Linear\n",
    "from e3nn.nn.batchnorm import BatchNorm\n",
    "from e3nn.nn.gate import Gate\n",
    "from e3nn.math import soft_one_hot_linspace\n",
    "\n",
    "import matplotlib.pyplot as plt"
   ]
  },
  {
   "cell_type": "code",
   "execution_count": null,
   "id": "arctic-furniture",
   "metadata": {},
   "outputs": [],
   "source": [
    "class Convolution(torch.nn.Module):\n",
    "    r\"\"\"convolution on voxels\n",
    "    Parameters\n",
    "    ----------\n",
    "    irreps_in : `Irreps`\n",
    "    irreps_out : `Irreps`\n",
    "    irreps_sh : `Irreps`\n",
    "        set typically to ``o3.Irreps.spherical_harmonics(lmax)``\n",
    "    size : int\n",
    "    steps : tuple of int\n",
    "    \"\"\"\n",
    "    def __init__(self, irreps_in, irreps_out, irreps_sh, size, steps=(1, 1, 1)):\n",
    "        super().__init__()\n",
    "\n",
    "        self.irreps_in = o3.Irreps(irreps_in)\n",
    "        self.irreps_out = o3.Irreps(irreps_out)\n",
    "        self.irreps_sh = o3.Irreps(irreps_sh)\n",
    "        self.size = size\n",
    "        self.num_rbfs = self.size\n",
    "\n",
    "        # self-connection\n",
    "        self.sc = Linear(self.irreps_in, self.irreps_out)\n",
    "\n",
    "        # connection with neighbors\n",
    "        r = torch.linspace(-1, 1, self.size)\n",
    "        x = r * steps[0] / min(steps)\n",
    "        x = x[x.abs() <= 1]\n",
    "        y = r * steps[1] / min(steps)\n",
    "        y = y[y.abs() <= 1]\n",
    "        z = r * steps[2] / min(steps)\n",
    "        z = z[z.abs() <= 1]\n",
    "        lattice = torch.stack(torch.meshgrid(x, y, z), dim=-1)  # [x, y, z, R^3]\n",
    "        self.register_buffer('d', lattice.norm(dim=-1))\n",
    "\n",
    "        sh = o3.spherical_harmonics(self.irreps_sh, lattice, True, 'component')  # [x, y, z, irreps_sh.dim]\n",
    "        self.register_buffer('sh', sh)\n",
    "\n",
    "        self.tp = FullyConnectedTensorProduct(self.irreps_in, self.irreps_sh, self.irreps_out, shared_weights=False)\n",
    "\n",
    "        self.weight = torch.nn.Parameter(torch.randn(self.num_rbfs, self.tp.weight_numel))\n",
    "\n",
    "    def forward(self, x):\n",
    "        r\"\"\"\n",
    "        Parameters\n",
    "        ----------\n",
    "        x : `torch.Tensor`\n",
    "            tensor of shape ``(batch, irreps_in.dim, x, y, z)``\n",
    "        Returns\n",
    "        -------\n",
    "        `torch.Tensor`\n",
    "            tensor of shape ``(batch, irreps_out.dim, x, y, z)``\n",
    "        \"\"\"\n",
    "        sc = self.sc(x.transpose(1, 4)).transpose(1, 4)\n",
    "\n",
    "        weight = soft_one_hot_linspace(\n",
    "            x=self.d,\n",
    "            start=0.0,\n",
    "            end=1.0,\n",
    "            number=self.num_rbfs,\n",
    "            base='gaussian',\n",
    "            endpoint=True,\n",
    "        ) @ self.weight # [d X num_rbfs] @ [num_rbfs X tp_weight_numel] => [d X tp_weight_numel]\n",
    "        \n",
    "        weight = weight / (self.size ** (3/2))\n",
    "        kernel = self.tp.right(self.sh, weight)  # [x, y, z, irreps_in.dim, irreps_out.dim]\n",
    "        kernel = torch.einsum('xyzio->oixyz', kernel) # permute axes in format expected by conv3d\n",
    "        return sc + 0.1 * torch.nn.functional.conv3d(x, kernel, padding=self.size // 2)"
   ]
  },
  {
   "cell_type": "code",
   "execution_count": null,
   "id": "flexible-lodging",
   "metadata": {},
   "outputs": [],
   "source": [
    "%load_ext autoreload\n",
    "%autoreload 2\n",
    "import pytorch_lightning as plt\n",
    "from models.e3nn_models import e3nnCNN, Convolution"
   ]
  },
  {
   "cell_type": "code",
   "execution_count": null,
   "id": "moved-hungary",
   "metadata": {},
   "outputs": [],
   "source": [
    "model = e3nnCNN.load_from_checkpoint('../logs/e3nn_cnn-1618260121/version_0/checkpoints/epoch=2-step=2399.ckpt')"
   ]
  },
  {
   "cell_type": "code",
   "execution_count": null,
   "id": "bulgarian-senegal",
   "metadata": {},
   "outputs": [],
   "source": [
    "layers = [ layer for layer in model.modules() \n",
    "     if isinstance(layer, Convolution)]"
   ]
  },
  {
   "cell_type": "code",
   "execution_count": null,
   "id": "improved-hanging",
   "metadata": {},
   "outputs": [],
   "source": [
    "kernels = [ layer.tp.right(layer.sh, layer.emb @ layer.weight).detach() for layer in layers ]"
   ]
  },
  {
   "cell_type": "code",
   "execution_count": null,
   "id": "behavioral-commerce",
   "metadata": {},
   "outputs": [],
   "source": [
    "def get_expanded_kernel_size(layer):\n",
    "    tp_weights = np.prod(layer.weight.shape[1:])\n",
    "    return layer.size**3 * tp_weights"
   ]
  },
  {
   "cell_type": "code",
   "execution_count": null,
   "id": "beautiful-florist",
   "metadata": {},
   "outputs": [],
   "source": [
    "def get_total_params(layer):\n",
    "    return sum([\n",
    "        get_expanded_kernel_size(layer),\n",
    "        layer.weight.numel(),\n",
    "        layer.emb.numel(),\n",
    "        layer.sh.numel(),\n",
    "        list(layer.sc.parameters())[0].numel()\n",
    "    ])"
   ]
  },
  {
   "cell_type": "code",
   "execution_count": null,
   "id": "spectacular-delaware",
   "metadata": {},
   "outputs": [],
   "source": [
    "for layer in layers:\n",
    "    print(layer, get_total_params(layer))"
   ]
  },
  {
   "cell_type": "code",
   "execution_count": null,
   "id": "yellow-criticism",
   "metadata": {},
   "outputs": [],
   "source": [
    "for kernel in kernels:\n",
    "    kernel[kernel==0] = -10"
   ]
  },
  {
   "cell_type": "code",
   "execution_count": null,
   "id": "scientific-correlation",
   "metadata": {},
   "outputs": [],
   "source": [
    "plot = k3d.plot(camera_auto_fit=True)\n",
    "\n",
    "for i in range(4):\n",
    "    plot += k3d.volume(\n",
    "        kernels[3][...,-1, i].numpy().astype(np.float32),\n",
    "        alpha_coef=1000,\n",
    "        samples=600,\n",
    "        color_range=[-.2,1],\n",
    "        color_map=k3d.colormaps.paraview_color_maps.Coolwarm,\n",
    ")\n",
    "\n",
    "plot.display()"
   ]
  },
  {
   "cell_type": "markdown",
   "id": "recognized-hughes",
   "metadata": {},
   "source": [
    "## Dot and cross product using tensor products"
   ]
  },
  {
   "cell_type": "code",
   "execution_count": null,
   "id": "ambient-highlight",
   "metadata": {},
   "outputs": [],
   "source": [
    "from e3nn.o3 import TensorProduct\n",
    "import numpy as np"
   ]
  },
  {
   "cell_type": "code",
   "execution_count": null,
   "id": "attractive-battlefield",
   "metadata": {},
   "outputs": [],
   "source": [
    "x = torch.tensor([0.,0.,1.])\n",
    "y = torch.tensor([0.,1.,0.])"
   ]
  },
  {
   "cell_type": "code",
   "execution_count": null,
   "id": "activated-techno",
   "metadata": {},
   "outputs": [],
   "source": [
    "xs = torch.vstack([x,x,x])\n",
    "ys = torch.vstack([y,y,y])"
   ]
  },
  {
   "cell_type": "code",
   "execution_count": null,
   "id": "dominican-leadership",
   "metadata": {},
   "outputs": [],
   "source": [
    "cross = TensorProduct(\n",
    "    '1e', '1e', '1e',\n",
    "    [\n",
    "        (0,0,0, \"uuu\", False)\n",
    "    ],\n",
    ")"
   ]
  },
  {
   "cell_type": "code",
   "execution_count": null,
   "id": "dimensional-proportion",
   "metadata": {},
   "outputs": [],
   "source": [
    "cross(xs, ys) * np.sqrt(2)"
   ]
  },
  {
   "cell_type": "code",
   "execution_count": null,
   "id": "every-alcohol",
   "metadata": {},
   "outputs": [],
   "source": [
    "dot = TensorProduct(\n",
    "    '1e', '1e', '0e',\n",
    "    [\n",
    "        (0,0,0, 'uuw', False)\n",
    "    ]\n",
    ")"
   ]
  },
  {
   "cell_type": "code",
   "execution_count": null,
   "id": "precise-assist",
   "metadata": {},
   "outputs": [],
   "source": [
    "dot(xs, xs) * np.sqrt(3)"
   ]
  }
 ],
 "metadata": {
  "kernelspec": {
   "display_name": "Python 3",
   "language": "python",
   "name": "python3"
  },
  "language_info": {
   "codemirror_mode": {
    "name": "ipython",
    "version": 3
   },
   "file_extension": ".py",
   "mimetype": "text/x-python",
   "name": "python",
   "nbconvert_exporter": "python",
   "pygments_lexer": "ipython3",
   "version": "3.8.8"
  }
 },
 "nbformat": 4,
 "nbformat_minor": 5
}
