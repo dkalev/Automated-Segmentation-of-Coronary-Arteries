{
 "cells": [
  {
   "cell_type": "code",
   "execution_count": null,
   "metadata": {},
   "outputs": [],
   "source": [
    "import numpy as np\n",
    "from collections import defaultdict\n",
    "import matplotlib\n",
    "\n",
    "%matplotlib inline\n",
    "\n",
    "import matplotlib.pyplot as plt\n",
    "\n",
    "plt.rcParams['image.cmap'] = 'RdYlGn'\n",
    "\n",
    "import torch\n",
    "\n",
    "from e2cnn import gspaces\n",
    "from e2cnn import nn\n",
    "\n",
    "import matplotlib.image as mpimg"
   ]
  },
  {
   "cell_type": "code",
   "execution_count": null,
   "metadata": {},
   "outputs": [],
   "source": [
    "image = np.zeros((20,20,3))"
   ]
  },
  {
   "cell_type": "code",
   "execution_count": null,
   "metadata": {},
   "outputs": [],
   "source": [
    "image[10,:,:] = 1\n",
    "image[:,10,:] = 1\n",
    "image[:5,:5,:] = 0.5"
   ]
  },
  {
   "cell_type": "code",
   "execution_count": null,
   "metadata": {},
   "outputs": [],
   "source": [
    "plt.imshow(image)"
   ]
  },
  {
   "cell_type": "code",
   "execution_count": null,
   "metadata": {},
   "outputs": [],
   "source": [
    "gimage = nn.GeometricTensor(torch.tensor(image).permute(2,0,1).unsqueeze(0), nn.FieldType(g, 3*[g.trivial_repr]))"
   ]
  },
  {
   "cell_type": "code",
   "execution_count": null,
   "metadata": {},
   "outputs": [],
   "source": [
    "_, axes = plt.subplots(2,2, figsize=(10,10))\n",
    "for i in range(4):\n",
    "    axes[i//2, i%2].set_axis_off()\n",
    "    axes[i//2, i%2].imshow(gimage.transform(i).tensor.squeeze(0).permute(1,2,0))"
   ]
  },
  {
   "cell_type": "raw",
   "metadata": {},
   "source": [
    "g.regular_repr.representation(3)"
   ]
  },
  {
   "cell_type": "code",
   "execution_count": null,
   "metadata": {},
   "outputs": [],
   "source": [
    "plt.imshow(g.regular_repr.representation(3))"
   ]
  },
  {
   "cell_type": "code",
   "execution_count": null,
   "metadata": {},
   "outputs": [],
   "source": [
    "np.set_printoptions(precision=2, floatmode='maxprec', suppress=True)"
   ]
  },
  {
   "cell_type": "code",
   "execution_count": null,
   "metadata": {},
   "outputs": [],
   "source": [
    "g.regular_repr.change_of_basis @ g.regular_repr.representation(1)"
   ]
  },
  {
   "cell_type": "code",
   "execution_count": null,
   "metadata": {},
   "outputs": [],
   "source": [
    "g.regular_repr.change_of_basis_inv"
   ]
  },
  {
   "cell_type": "code",
   "execution_count": null,
   "metadata": {},
   "outputs": [],
   "source": []
  },
  {
   "cell_type": "code",
   "execution_count": null,
   "metadata": {},
   "outputs": [],
   "source": [
    "N = 4\n",
    "g = gspaces.Rot2dOnR2(N)\n",
    "in_type = nn.FieldType(g, [g.trivial_repr])\n",
    "out_type = nn.FieldType(g, [g.regular_repr])\n",
    "conv = nn.R2Conv(in_type, out_type, 13, maximum_offset=0)\n",
    "\n",
    "conv.weights.data.fill_(0.)\n",
    "\n",
    "with torch.no_grad():\n",
    "    for i, p in enumerate(conv.basisexpansion.get_basis_info()):  \n",
    "        if p['radius'] == 1. and p['frequency'] == 2 and p['gamma'] == 0.0:\n",
    "            conv.weights[i] = 1.\n",
    "\n",
    "# conv.weights.data.fill_(1.)\n",
    "conv.eval()\n",
    "\n",
    "I = 1\n",
    "O = N\n",
    "fig, axes = plt.subplots(ncols=I, nrows=O, constrained_layout=True, squeeze=False, figsize=(7, 7))\n",
    "\n",
    "for i in range(I):\n",
    "    for o in range(O):\n",
    "        axes[o][i].set_axis_off()\n",
    "        axes[o][i].imshow(conv.filter[o, i, ...].detach().numpy())\n",
    "\n"
   ]
  },
  {
   "cell_type": "markdown",
   "metadata": {},
   "source": [
    "# Trivial -> Regular"
   ]
  },
  {
   "cell_type": "code",
   "execution_count": null,
   "metadata": {},
   "outputs": [],
   "source": [
    "N = 8\n",
    "g = gspaces.Rot2dOnR2(N)\n",
    "in_type = nn.FieldType(g, [g.trivial_repr])\n",
    "out_type = nn.FieldType(g, [g.regular_repr])\n",
    "K = 9\n",
    "\n",
    "conv = nn.R2Conv(in_type, out_type, K, sigma=0.8, frequencies_cutoff=lambda r: .5*r, rings=[0, 2, 4])\n",
    "conv.eval()\n",
    "\n",
    "freqs = defaultdict(lambda : [])\n",
    "\n",
    "for p in conv.basisexpansion.get_basis_info():\n",
    "    freqs[p['radius']].append(p['frequency'])\n",
    "    \n",
    "R = len(freqs)\n",
    "F = max(len(f) for f in freqs.values())\n",
    "\n",
    "print(F, R)\n",
    "\n",
    "fig, axes = plt.subplots(nrows=R, ncols=F, constrained_layout=True, squeeze=False, figsize=(12,6))\n",
    "\n",
    "V = .08\n",
    "\n",
    "radius = {r: i for i, r in enumerate(sorted(freqs.keys()))}\n",
    "radii = defaultdict(int)\n",
    "\n",
    "for i in range(R):\n",
    "    for j in range(F):\n",
    "        axes[i][j].set_axis_off()\n",
    "        axes[i][j].set_xticklabels([])\n",
    "        axes[i][j].set_yticklabels([])\n",
    "\n",
    "with torch.no_grad():\n",
    "    for i, p in enumerate(conv.basisexpansion.get_basis_info()):  \n",
    "        conv.weights.data.fill_(0.)\n",
    "        conv.weights[i] = 1.\n",
    "        conv.train().eval()\n",
    "\n",
    "\n",
    "        filter = conv.filter[0, 0, ...].detach().numpy()\n",
    "\n",
    "        row = radius[p['radius']]\n",
    "        col = radii[p['radius']]\n",
    "        radii[p['radius']] += 1\n",
    "\n",
    "        axes[row][col].set_axis_off()\n",
    "        axes[row][col].imshow(filter, vmin=-V, vmax=V)\n",
    "\n",
    "plt.subplots_adjust(hspace=0)\n",
    "# plt.savefig('basis_hd.pdf', bbox_inches='tight', dpi=100)"
   ]
  },
  {
   "cell_type": "markdown",
   "metadata": {},
   "source": [
    "# Trivial -> Regular (all filters, grouped by irreps)\n"
   ]
  },
  {
   "cell_type": "code",
   "execution_count": null,
   "metadata": {},
   "outputs": [],
   "source": [
    "N = 9\n",
    "g = gspaces.Rot2dOnR2(N)\n",
    "in_type = nn.FieldType(g, [g.trivial_repr])\n",
    "out_type = nn.FieldType(g, [g.regular_repr])\n",
    "\n",
    "FT = g.regular_repr.change_of_basis\n",
    "\n",
    "K = 23\n",
    "\n",
    "conv = nn.R2Conv(in_type, out_type, K, sigma=0.8, maximum_offset=0, frequencies_cutoff=lambda r: 1*r, rings=[6])\n",
    "conv.eval()\n",
    "\n",
    "irreps_basis = defaultdict(list)\n",
    "\n",
    "for i, p in enumerate(conv.basisexpansion.get_basis_info()):\n",
    "    irreps_basis[(p['radius'], p['out_irrep'])].append(i)\n",
    "\n",
    "irreps_basis = sorted(list(irreps_basis.items()))\n",
    "\n",
    "\n",
    "V = .08\n",
    "\n",
    "for (radius, irrep), filters_idxs in irreps_basis:\n",
    "    \n",
    "    F = len(filters_idxs)\n",
    "    fig, axes = plt.subplots(nrows=F, ncols=N, squeeze=False, figsize=(12,6))\n",
    "    \n",
    "    for i in range(F):\n",
    "        for j in range(N):\n",
    "            axes[i][j].set_axis_off()\n",
    "            axes[i][j].set_xticklabels([])\n",
    "            axes[i][j].set_yticklabels([])\n",
    "\n",
    "    with torch.no_grad():\n",
    "        for row, i in enumerate(filters_idxs):  \n",
    "            conv.weights.data.fill_(0.)\n",
    "            conv.weights[i] = 1.\n",
    "            conv.train().eval()\n",
    "\n",
    "            filter = conv.filter[:, 0, ...].detach().numpy()\n",
    "            # do FT of the output channels\n",
    "    #         filter = np.einsum('fc,cxy->fxy', FT, filter)\n",
    "\n",
    "            axes[row][0].set_title(f'{irrep}: basis {row}')\n",
    "\n",
    "            for col in range(N):    \n",
    "                axes[row][col].set_axis_off()\n",
    "                axes[row][col].imshow(filter[col, ...], vmin=-V, vmax=V)\n",
    "\n",
    "    plt.subplots_adjust(hspace=0)\n"
   ]
  },
  {
   "cell_type": "markdown",
   "metadata": {},
   "source": [
    "# Trivial -> Fourier Transform of Regular (all filters, grouped by irreps)\n"
   ]
  },
  {
   "cell_type": "code",
   "execution_count": null,
   "metadata": {},
   "outputs": [],
   "source": [
    "N = 9\n",
    "g = gspaces.Rot2dOnR2(N)\n",
    "in_type = nn.FieldType(g, [g.trivial_repr])\n",
    "out_type = nn.FieldType(g, [g.regular_repr])\n",
    "\n",
    "FT = g.regular_repr.change_of_basis_inv\n",
    "\n",
    "K = 23\n",
    "\n",
    "conv = nn.R2Conv(in_type, out_type, K, sigma=0.8, maximum_offset=0, frequencies_cutoff=lambda r: r, rings=[6])\n",
    "conv.eval()\n",
    "\n",
    "irreps_basis = defaultdict(lambda : [])\n",
    "\n",
    "for i, p in enumerate(conv.basisexpansion.get_basis_info()):\n",
    "    irreps_basis[\n",
    "        (p['radius'], p['out_irrep'])\n",
    "    ].append(i)\n",
    "\n",
    "irreps_basis = sorted(list(irreps_basis.items()))\n",
    "\n",
    "\n",
    "V = .08\n",
    "\n",
    "for (radius, irrep), filters_idxs in irreps_basis:\n",
    "    \n",
    "    F = len(filters_idxs)\n",
    "    fig, axes = plt.subplots(nrows=F, ncols=N, constrained_layout=True, squeeze=False, figsize=(12,6))\n",
    "    \n",
    "    for i in range(F):\n",
    "        for j in range(N):\n",
    "            axes[i][j].set_axis_off()\n",
    "            axes[i][j].set_xticklabels([])\n",
    "            axes[i][j].set_yticklabels([])\n",
    "\n",
    "    with torch.no_grad():\n",
    "        for row, i in enumerate(filters_idxs):  \n",
    "            conv.weights.data.fill_(0.)\n",
    "            conv.weights[i] = 1.\n",
    "            conv.train().eval()\n",
    "\n",
    "            filter = conv.filter[:, 0, ...].detach().numpy()\n",
    "            # do FT of the output channels\n",
    "            filter = np.einsum('fc,cxy->fxy', FT, filter)\n",
    "\n",
    "            axes[row][0].set_title(f'{irrep}: basis {row}')\n",
    "\n",
    "            for col in range(N):    \n",
    "                axes[row][col].set_axis_off()\n",
    "                axes[row][col].imshow(filter[col, ...], vmin=-V, vmax=V)\n",
    "\n",
    "    plt.subplots_adjust(hspace=0)\n"
   ]
  },
  {
   "cell_type": "markdown",
   "metadata": {},
   "source": [
    "# on the expressivity of the filters"
   ]
  },
  {
   "cell_type": "code",
   "execution_count": null,
   "metadata": {},
   "outputs": [],
   "source": []
  },
  {
   "cell_type": "code",
   "execution_count": null,
   "metadata": {},
   "outputs": [],
   "source": [
    "N = 8\n",
    "g = gspaces.Rot2dOnR2(N)\n",
    "in_type = nn.FieldType(g, [g.trivial_repr])\n",
    "out_type = nn.FieldType(g, [g.regular_repr])\n",
    "\n",
    "FT = g.regular_repr.change_of_basis\n",
    "\n",
    "K = 9\n",
    "\n",
    "conv = nn.R2Conv(in_type, out_type, K, sigma=0.8, frequencies_cutoff=lambda r: 3*r, rings=[0, 1, 2, 3, 4])\n",
    "conv.eval()\n",
    "\n",
    "basis = []\n",
    "\n",
    "with torch.no_grad():\n",
    "    for i, p in enumerate(conv.basisexpansion.get_basis_info()):\n",
    "        conv.weights.data.fill_(0.)\n",
    "        conv.weights[i] = 1.\n",
    "        conv.train().eval()\n",
    "\n",
    "        filter = conv.filter[0, 0, ...].detach().numpy()\n",
    "        basis.append(filter)\n",
    "    \n",
    "basis = np.stack(basis, axis=0)\n",
    "print(basis.shape)\n",
    "\n",
    "basis /= np.linalg.norm(basis.reshape(-1, 81), axis=1).reshape(-1, 1, 1)"
   ]
  },
  {
   "cell_type": "code",
   "execution_count": null,
   "metadata": {},
   "outputs": [],
   "source": [
    "x = np.random.randn(9, 9)\n",
    "\n",
    "x[:, 4] = 1.\n",
    "x[4, :] = 1.\n",
    "for i in range(x.shape[0]):\n",
    "    x[i,i] = 1.5\n",
    "    x[i, x.shape[0]-1-i] = 1.75\n",
    "    \n",
    "x[0:3,0:3] = 2\n",
    "\n",
    "plt.imshow(x.squeeze())"
   ]
  },
  {
   "cell_type": "code",
   "execution_count": null,
   "metadata": {},
   "outputs": [],
   "source": [
    "w = basis.reshape(-1, 81) @ x.reshape(81, 1)\n",
    "\n",
    "x_rec = basis.reshape(-1, 81).T @ w\n",
    "x_rec = x_rec.reshape(9, 9)\n",
    "\n",
    "plt.imshow(x_rec)"
   ]
  },
  {
   "cell_type": "code",
   "execution_count": null,
   "metadata": {},
   "outputs": [],
   "source": []
  }
 ],
 "metadata": {
  "kernelspec": {
   "display_name": "Python 3",
   "language": "python",
   "name": "python3"
  },
  "language_info": {
   "codemirror_mode": {
    "name": "ipython",
    "version": 3
   },
   "file_extension": ".py",
   "mimetype": "text/x-python",
   "name": "python",
   "nbconvert_exporter": "python",
   "pygments_lexer": "ipython3",
   "version": "3.8.8"
  }
 },
 "nbformat": 4,
 "nbformat_minor": 2
}
